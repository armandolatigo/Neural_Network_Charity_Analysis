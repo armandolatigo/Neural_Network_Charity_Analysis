{
 "cells": [
  {
   "cell_type": "code",
   "execution_count": 1,
   "metadata": {},
   "outputs": [
    {
     "name": "stdout",
     "output_type": "stream",
     "text": [
      "Using matplotlib backend: <object object at 0x7fc840cd98b0>\n"
     ]
    }
   ],
   "source": [
    "%matplotlib\n",
    "# Import our dependencies\n",
    "import pandas as pd\n",
    "import matplotlib as plt\n",
    "from sklearn.datasets import make_blobs\n",
    "import sklearn as skl\n",
    "import tensorflow as tf"
   ]
  },
  {
   "cell_type": "code",
   "execution_count": 2,
   "metadata": {},
   "outputs": [
    {
     "data": {
      "text/plain": [
       "<AxesSubplot:xlabel='Feature 1', ylabel='Feature 2'>"
      ]
     },
     "execution_count": 2,
     "metadata": {},
     "output_type": "execute_result"
    }
   ],
   "source": [
    "# Generate dummy dataset\n",
    "X, y = make_blobs(n_samples=5000, centers=2, n_features=2, random_state=42, cluster_std=3)\n",
    "\n",
    "# Creating a DataFrame with the dummy data\n",
    "df = pd.DataFrame(X, columns=[\"Feature 1\", \"Feature 2\"])\n",
    "df[\"Target\"] = y\n",
    "\n",
    "# Plotting the dummy data\n",
    "df.plot.scatter(x=\"Feature 1\", y=\"Feature 2\", c=\"Target\", colormap=\"winter\")"
   ]
  },
  {
   "cell_type": "code",
   "execution_count": 3,
   "metadata": {},
   "outputs": [],
   "source": [
    "# Use sklearn to split dataset\n",
    "from sklearn.model_selection import train_test_split\n",
    "X_train, X_test, y_train, y_test = train_test_split(X, y, random_state=78)"
   ]
  },
  {
   "cell_type": "code",
   "execution_count": 4,
   "metadata": {},
   "outputs": [],
   "source": [
    "# Create scaler instance\n",
    "X_scaler = skl.preprocessing.StandardScaler()\n",
    "\n",
    "# Fit the scaler\n",
    "X_scaler.fit(X_train)\n",
    "\n",
    "# Scale the data\n",
    "X_train_scaled = X_scaler.transform(X_train)\n",
    "X_test_scaled = X_scaler.transform(X_test)"
   ]
  },
  {
   "cell_type": "code",
   "execution_count": 5,
   "metadata": {},
   "outputs": [
    {
     "name": "stderr",
     "output_type": "stream",
     "text": [
      "2022-03-04 13:39:07.974672: I tensorflow/core/platform/cpu_feature_guard.cc:151] This TensorFlow binary is optimized with oneAPI Deep Neural Network Library (oneDNN) to use the following CPU instructions in performance-critical operations:  AVX2 FMA\n",
      "To enable them in other operations, rebuild TensorFlow with the appropriate compiler flags.\n"
     ]
    }
   ],
   "source": [
    "# Create the Keras Sequential model\n",
    "nn_model = tf.keras.models.Sequential()\n"
   ]
  },
  {
   "cell_type": "code",
   "execution_count": 6,
   "metadata": {},
   "outputs": [],
   "source": [
    "# Add our first Dense layer, including the input layer\n",
    "nn_model.add(tf.keras.layers.Dense(units=1, activation=\"relu\", input_dim=2))"
   ]
  },
  {
   "cell_type": "code",
   "execution_count": 7,
   "metadata": {},
   "outputs": [],
   "source": [
    "# Add the output layer that uses a probability activation function\n",
    "nn_model.add(tf.keras.layers.Dense(units=1, activation=\"sigmoid\"))"
   ]
  },
  {
   "cell_type": "code",
   "execution_count": 8,
   "metadata": {},
   "outputs": [
    {
     "name": "stdout",
     "output_type": "stream",
     "text": [
      "Model: \"sequential\"\n",
      "_________________________________________________________________\n",
      " Layer (type)                Output Shape              Param #   \n",
      "=================================================================\n",
      " dense (Dense)               (None, 1)                 3         \n",
      "                                                                 \n",
      " dense_1 (Dense)             (None, 1)                 2         \n",
      "                                                                 \n",
      "=================================================================\n",
      "Total params: 5\n",
      "Trainable params: 5\n",
      "Non-trainable params: 0\n",
      "_________________________________________________________________\n"
     ]
    }
   ],
   "source": [
    "# Check the structure of the Sequential model\n",
    "nn_model.summary()"
   ]
  },
  {
   "cell_type": "code",
   "execution_count": 9,
   "metadata": {},
   "outputs": [],
   "source": [
    "# Compile the Sequential model together and customize metrics\n",
    "nn_model.compile(loss=\"binary_crossentropy\", optimizer=\"adam\", metrics=[\"accuracy\"])"
   ]
  },
  {
   "cell_type": "code",
   "execution_count": 10,
   "metadata": {
    "scrolled": true
   },
   "outputs": [
    {
     "name": "stdout",
     "output_type": "stream",
     "text": [
      "Epoch 1/100\n",
      "118/118 [==============================] - 0s 645us/step - loss: 1.1778 - accuracy: 0.1043\n",
      "Epoch 2/100\n",
      "118/118 [==============================] - 0s 661us/step - loss: 1.0170 - accuracy: 0.1264\n",
      "Epoch 3/100\n",
      "118/118 [==============================] - 0s 659us/step - loss: 0.9095 - accuracy: 0.1624\n",
      "Epoch 4/100\n",
      "118/118 [==============================] - 0s 672us/step - loss: 0.8384 - accuracy: 0.2083\n",
      "Epoch 5/100\n",
      "118/118 [==============================] - 0s 653us/step - loss: 0.7909 - accuracy: 0.2632\n",
      "Epoch 6/100\n",
      "118/118 [==============================] - 0s 646us/step - loss: 0.7590 - accuracy: 0.3157\n",
      "Epoch 7/100\n",
      "118/118 [==============================] - 0s 673us/step - loss: 0.7379 - accuracy: 0.3549\n",
      "Epoch 8/100\n",
      "118/118 [==============================] - 0s 712us/step - loss: 0.7237 - accuracy: 0.3811\n",
      "Epoch 9/100\n",
      "118/118 [==============================] - 0s 751us/step - loss: 0.7142 - accuracy: 0.4064\n",
      "Epoch 10/100\n",
      "118/118 [==============================] - 0s 650us/step - loss: 0.7075 - accuracy: 0.4237\n",
      "Epoch 11/100\n",
      "118/118 [==============================] - 0s 749us/step - loss: 0.7031 - accuracy: 0.4421\n",
      "Epoch 12/100\n",
      "118/118 [==============================] - 0s 666us/step - loss: 0.7000 - accuracy: 0.4539\n",
      "Epoch 13/100\n",
      "118/118 [==============================] - 0s 660us/step - loss: 0.6977 - accuracy: 0.4653\n",
      "Epoch 14/100\n",
      "118/118 [==============================] - 0s 669us/step - loss: 0.6961 - accuracy: 0.4744\n",
      "Epoch 15/100\n",
      "118/118 [==============================] - 0s 667us/step - loss: 0.6948 - accuracy: 0.4843\n",
      "Epoch 16/100\n",
      "118/118 [==============================] - 0s 684us/step - loss: 0.6937 - accuracy: 0.4928\n",
      "Epoch 17/100\n",
      "118/118 [==============================] - 0s 678us/step - loss: 0.6928 - accuracy: 0.5013\n",
      "Epoch 18/100\n",
      "118/118 [==============================] - 0s 664us/step - loss: 0.6918 - accuracy: 0.5091\n",
      "Epoch 19/100\n",
      "118/118 [==============================] - 0s 652us/step - loss: 0.6905 - accuracy: 0.5251\n",
      "Epoch 20/100\n",
      "118/118 [==============================] - 0s 669us/step - loss: 0.6885 - accuracy: 0.5059\n",
      "Epoch 21/100\n",
      "118/118 [==============================] - 0s 704us/step - loss: 0.6847 - accuracy: 0.5712\n",
      "Epoch 22/100\n",
      "118/118 [==============================] - 0s 764us/step - loss: 0.6771 - accuracy: 0.6125\n",
      "Epoch 23/100\n",
      "118/118 [==============================] - 0s 732us/step - loss: 0.6612 - accuracy: 0.6781\n",
      "Epoch 24/100\n",
      "118/118 [==============================] - 0s 665us/step - loss: 0.6293 - accuracy: 0.7587\n",
      "Epoch 25/100\n",
      "118/118 [==============================] - 0s 673us/step - loss: 0.5796 - accuracy: 0.8285\n",
      "Epoch 26/100\n",
      "118/118 [==============================] - 0s 650us/step - loss: 0.5207 - accuracy: 0.8707\n",
      "Epoch 27/100\n",
      "118/118 [==============================] - 0s 666us/step - loss: 0.4635 - accuracy: 0.8987\n",
      "Epoch 28/100\n",
      "118/118 [==============================] - 0s 690us/step - loss: 0.4141 - accuracy: 0.9131\n",
      "Epoch 29/100\n",
      "118/118 [==============================] - 0s 666us/step - loss: 0.3735 - accuracy: 0.9248\n",
      "Epoch 30/100\n",
      "118/118 [==============================] - 0s 663us/step - loss: 0.3408 - accuracy: 0.9317\n",
      "Epoch 31/100\n",
      "118/118 [==============================] - 0s 653us/step - loss: 0.3136 - accuracy: 0.9347\n",
      "Epoch 32/100\n",
      "118/118 [==============================] - 0s 675us/step - loss: 0.2907 - accuracy: 0.9379\n",
      "Epoch 33/100\n",
      "118/118 [==============================] - 0s 717us/step - loss: 0.2711 - accuracy: 0.9400\n",
      "Epoch 34/100\n",
      "118/118 [==============================] - 0s 728us/step - loss: 0.2543 - accuracy: 0.9405\n",
      "Epoch 35/100\n",
      "118/118 [==============================] - 0s 653us/step - loss: 0.2399 - accuracy: 0.9429\n",
      "Epoch 36/100\n",
      "118/118 [==============================] - 0s 648us/step - loss: 0.2275 - accuracy: 0.9448\n",
      "Epoch 37/100\n",
      "118/118 [==============================] - 0s 682us/step - loss: 0.2168 - accuracy: 0.9456\n",
      "Epoch 38/100\n",
      "118/118 [==============================] - 0s 683us/step - loss: 0.2075 - accuracy: 0.9461\n",
      "Epoch 39/100\n",
      "118/118 [==============================] - 0s 663us/step - loss: 0.1996 - accuracy: 0.9469\n",
      "Epoch 40/100\n",
      "118/118 [==============================] - 0s 644us/step - loss: 0.1926 - accuracy: 0.9469\n",
      "Epoch 41/100\n",
      "118/118 [==============================] - 0s 688us/step - loss: 0.1866 - accuracy: 0.9477\n",
      "Epoch 42/100\n",
      "118/118 [==============================] - 0s 679us/step - loss: 0.1814 - accuracy: 0.9491\n",
      "Epoch 43/100\n",
      "118/118 [==============================] - 0s 672us/step - loss: 0.1767 - accuracy: 0.9491\n",
      "Epoch 44/100\n",
      "118/118 [==============================] - 0s 654us/step - loss: 0.1726 - accuracy: 0.9496\n",
      "Epoch 45/100\n",
      "118/118 [==============================] - 0s 664us/step - loss: 0.1689 - accuracy: 0.9491\n",
      "Epoch 46/100\n",
      "118/118 [==============================] - 0s 739us/step - loss: 0.1655 - accuracy: 0.9493\n",
      "Epoch 47/100\n",
      "118/118 [==============================] - 0s 679us/step - loss: 0.1625 - accuracy: 0.9504\n",
      "Epoch 48/100\n",
      "118/118 [==============================] - 0s 660us/step - loss: 0.1598 - accuracy: 0.9501\n",
      "Epoch 49/100\n",
      "118/118 [==============================] - 0s 666us/step - loss: 0.1573 - accuracy: 0.9504\n",
      "Epoch 50/100\n",
      "118/118 [==============================] - 0s 673us/step - loss: 0.1551 - accuracy: 0.9507\n",
      "Epoch 51/100\n",
      "118/118 [==============================] - 0s 669us/step - loss: 0.1531 - accuracy: 0.9499\n",
      "Epoch 52/100\n",
      "118/118 [==============================] - 0s 688us/step - loss: 0.1513 - accuracy: 0.9493\n",
      "Epoch 53/100\n",
      "118/118 [==============================] - 0s 660us/step - loss: 0.1497 - accuracy: 0.9499\n",
      "Epoch 54/100\n",
      "118/118 [==============================] - 0s 653us/step - loss: 0.1481 - accuracy: 0.9496\n",
      "Epoch 55/100\n",
      "118/118 [==============================] - 0s 660us/step - loss: 0.1468 - accuracy: 0.9493\n",
      "Epoch 56/100\n",
      "118/118 [==============================] - 0s 669us/step - loss: 0.1455 - accuracy: 0.9493\n",
      "Epoch 57/100\n",
      "118/118 [==============================] - 0s 664us/step - loss: 0.1443 - accuracy: 0.9496\n",
      "Epoch 58/100\n",
      "118/118 [==============================] - 0s 742us/step - loss: 0.1432 - accuracy: 0.9493\n",
      "Epoch 59/100\n",
      "118/118 [==============================] - 0s 663us/step - loss: 0.1422 - accuracy: 0.9493\n",
      "Epoch 60/100\n",
      "118/118 [==============================] - 0s 713us/step - loss: 0.1413 - accuracy: 0.9496\n",
      "Epoch 61/100\n",
      "118/118 [==============================] - 0s 708us/step - loss: 0.1405 - accuracy: 0.9496\n",
      "Epoch 62/100\n",
      "118/118 [==============================] - 0s 650us/step - loss: 0.1396 - accuracy: 0.9499\n",
      "Epoch 63/100\n",
      "118/118 [==============================] - 0s 650us/step - loss: 0.1389 - accuracy: 0.9493\n",
      "Epoch 64/100\n",
      "118/118 [==============================] - 0s 670us/step - loss: 0.1383 - accuracy: 0.9496\n",
      "Epoch 65/100\n",
      "118/118 [==============================] - 0s 682us/step - loss: 0.1377 - accuracy: 0.9496\n",
      "Epoch 66/100\n",
      "118/118 [==============================] - 0s 675us/step - loss: 0.1370 - accuracy: 0.9499\n",
      "Epoch 67/100\n",
      "118/118 [==============================] - 0s 679us/step - loss: 0.1365 - accuracy: 0.9499\n",
      "Epoch 68/100\n",
      "118/118 [==============================] - 0s 679us/step - loss: 0.1359 - accuracy: 0.9499\n",
      "Epoch 69/100\n",
      "118/118 [==============================] - 0s 677us/step - loss: 0.1354 - accuracy: 0.9496\n",
      "Epoch 70/100\n",
      "118/118 [==============================] - 0s 721us/step - loss: 0.1350 - accuracy: 0.9496\n",
      "Epoch 71/100\n",
      "118/118 [==============================] - 0s 655us/step - loss: 0.1345 - accuracy: 0.9499\n",
      "Epoch 72/100\n",
      "118/118 [==============================] - 0s 670us/step - loss: 0.1340 - accuracy: 0.9499\n",
      "Epoch 73/100\n",
      "118/118 [==============================] - 0s 731us/step - loss: 0.1337 - accuracy: 0.9496\n",
      "Epoch 74/100\n",
      "118/118 [==============================] - 0s 740us/step - loss: 0.1333 - accuracy: 0.9499\n",
      "Epoch 75/100\n",
      "118/118 [==============================] - 0s 674us/step - loss: 0.1329 - accuracy: 0.9501\n",
      "Epoch 76/100\n",
      "118/118 [==============================] - 0s 652us/step - loss: 0.1325 - accuracy: 0.9499\n",
      "Epoch 77/100\n",
      "118/118 [==============================] - 0s 690us/step - loss: 0.1321 - accuracy: 0.9496\n",
      "Epoch 78/100\n",
      "118/118 [==============================] - 0s 695us/step - loss: 0.1318 - accuracy: 0.9493\n",
      "Epoch 79/100\n"
     ]
    },
    {
     "name": "stdout",
     "output_type": "stream",
     "text": [
      "118/118 [==============================] - 0s 678us/step - loss: 0.1315 - accuracy: 0.9499\n",
      "Epoch 80/100\n",
      "118/118 [==============================] - 0s 645us/step - loss: 0.1312 - accuracy: 0.9501\n",
      "Epoch 81/100\n",
      "118/118 [==============================] - 0s 660us/step - loss: 0.1308 - accuracy: 0.9501\n",
      "Epoch 82/100\n",
      "118/118 [==============================] - 0s 762us/step - loss: 0.1307 - accuracy: 0.9504\n",
      "Epoch 83/100\n",
      "118/118 [==============================] - 0s 675us/step - loss: 0.1304 - accuracy: 0.9501\n",
      "Epoch 84/100\n",
      "118/118 [==============================] - 0s 653us/step - loss: 0.1301 - accuracy: 0.9501\n",
      "Epoch 85/100\n",
      "118/118 [==============================] - 0s 639us/step - loss: 0.1299 - accuracy: 0.9507\n",
      "Epoch 86/100\n",
      "118/118 [==============================] - 0s 694us/step - loss: 0.1297 - accuracy: 0.9499\n",
      "Epoch 87/100\n",
      "118/118 [==============================] - 0s 736us/step - loss: 0.1294 - accuracy: 0.9499\n",
      "Epoch 88/100\n",
      "118/118 [==============================] - 0s 652us/step - loss: 0.1293 - accuracy: 0.9496\n",
      "Epoch 89/100\n",
      "118/118 [==============================] - 0s 653us/step - loss: 0.1290 - accuracy: 0.9504\n",
      "Epoch 90/100\n",
      "118/118 [==============================] - 0s 650us/step - loss: 0.1288 - accuracy: 0.9499\n",
      "Epoch 91/100\n",
      "118/118 [==============================] - 0s 654us/step - loss: 0.1287 - accuracy: 0.9501\n",
      "Epoch 92/100\n",
      "118/118 [==============================] - 0s 671us/step - loss: 0.1285 - accuracy: 0.9499\n",
      "Epoch 93/100\n",
      "118/118 [==============================] - 0s 675us/step - loss: 0.1284 - accuracy: 0.9504\n",
      "Epoch 94/100\n",
      "118/118 [==============================] - 0s 690us/step - loss: 0.1282 - accuracy: 0.9496\n",
      "Epoch 95/100\n",
      "118/118 [==============================] - 0s 711us/step - loss: 0.1281 - accuracy: 0.9507\n",
      "Epoch 96/100\n",
      "118/118 [==============================] - 0s 648us/step - loss: 0.1279 - accuracy: 0.9499\n",
      "Epoch 97/100\n",
      "118/118 [==============================] - 0s 667us/step - loss: 0.1279 - accuracy: 0.9504\n",
      "Epoch 98/100\n",
      "118/118 [==============================] - 0s 684us/step - loss: 0.1277 - accuracy: 0.9501\n",
      "Epoch 99/100\n",
      "118/118 [==============================] - 0s 703us/step - loss: 0.1276 - accuracy: 0.9499\n",
      "Epoch 100/100\n",
      "118/118 [==============================] - 0s 738us/step - loss: 0.1275 - accuracy: 0.9501\n"
     ]
    }
   ],
   "source": [
    "# Fit the model to the training data\n",
    "#fit_model = nn_model.fit\n",
    "fit_model = nn_model.fit(X_train_scaled, y_train, epochs=100)"
   ]
  },
  {
   "cell_type": "code",
   "execution_count": 11,
   "metadata": {},
   "outputs": [
    {
     "name": "stdout",
     "output_type": "stream",
     "text": [
      "40/40 - 0s - loss: 0.1290 - accuracy: 0.9520 - 113ms/epoch - 3ms/step\n",
      "Loss: 0.12900003790855408, Accuracy: 0.9520000219345093\n"
     ]
    }
   ],
   "source": [
    "# Evaluate the model using the test data\n",
    "model_loss, model_accuracy = nn_model.evaluate(X_test_scaled, y_test, verbose=2)\n",
    "print(f\"Loss: {model_loss}, Accuracy: {model_accuracy}\")"
   ]
  },
  {
   "cell_type": "code",
   "execution_count": 12,
   "metadata": {},
   "outputs": [
    {
     "data": {
      "text/plain": [
       "<AxesSubplot:>"
      ]
     },
     "execution_count": 12,
     "metadata": {},
     "output_type": "execute_result"
    }
   ],
   "source": [
    "# Create a DataFrame containing training history\n",
    "history_df = pd.DataFrame(fit_model.history, index=range(1,len(fit_model.history[\"loss\"])+1))\n",
    "\n",
    "# Plot the accuracy\n",
    "history_df.plot(y=\"loss\")"
   ]
  }
 ],
 "metadata": {
  "kernelspec": {
   "display_name": "mlenv",
   "language": "python",
   "name": "mlenv"
  },
  "language_info": {
   "codemirror_mode": {
    "name": "ipython",
    "version": 3
   },
   "file_extension": ".py",
   "mimetype": "text/x-python",
   "name": "python",
   "nbconvert_exporter": "python",
   "pygments_lexer": "ipython3",
   "version": "3.7.11"
  }
 },
 "nbformat": 4,
 "nbformat_minor": 2
}
