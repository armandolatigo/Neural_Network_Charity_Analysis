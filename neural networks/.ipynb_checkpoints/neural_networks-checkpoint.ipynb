{
 "cells": [
  {
   "cell_type": "code",
   "execution_count": 1,
   "id": "c0284986",
   "metadata": {},
   "outputs": [],
   "source": [
    "# Import our dependencies\n",
    "import pandas as pd\n",
    "import matplotlib as plt\n",
    "from sklearn.datasets import make_blobs\n",
    "import sklearn as skl\n",
    "import tensorflow as tf"
   ]
  },
  {
   "cell_type": "code",
   "execution_count": 2,
   "id": "b6865601",
   "metadata": {},
   "outputs": [
    {
     "data": {
      "text/plain": [
       "<AxesSubplot:xlabel='Feature 1', ylabel='Feature 2'>"
      ]
     },
     "execution_count": 2,
     "metadata": {},
     "output_type": "execute_result"
    },
    {
     "data": {
      "image/png": "[encoded data removed]",
      "text/plain": [
       "<Figure size 432x288 with 2 Axes>"
      ]
     },
     "metadata": {
      "needs_background": "light"
     },
     "output_type": "display_data"
    }
   ],
   "source": [
    "# Generate a dummy dataset\n",
    "X, y = make_blobs(n_samples=1000, centers=2, n_features=2, random_state=78)\n",
    "\n",
    "\n",
    "# Creating a DataFrame with the dummy data\n",
    "df= pd.DataFrame(X, columns = [\"Feature 1\", \"Feature 2\"])\n",
    "df[\"Target\"] = y\n",
    "\n",
    "# Plotting the dummy data\n",
    "df.plot.scatter(x=\"Feature 1\", y=\"Feature 2\", c=\"Target\", colormap=\"winter\" )"
   ]
  },
  {
   "cell_type": "code",
   "execution_count": 3,
   "id": "449384c0",
   "metadata": {},
   "outputs": [],
   "source": [
    "# Use sklearn to split dataset\n",
    "from sklearn.model_selection import train_test_split\n",
    "X_train, X_test, y_train, y_test = train_test_split(X, y, random_state=78)"
   ]
  },
  {
   "cell_type": "code",
   "execution_count": 4,
   "id": "324f93a2",
   "metadata": {},
   "outputs": [],
   "source": [
    "# Create scaler instance\n",
    "X_scaler = skl.preprocessing.StandardScaler()\n",
    "\n",
    "# Fit the scaler\n",
    "X_scaler.fit(X_train)\n",
    "\n",
    "# Scale the data\n",
    "X_train_scaled = X_scaler.transform(X_train)\n",
    "X_test_scaled = X_scaler.transform(X_test)"
   ]
  },
  {
   "cell_type": "code",
   "execution_count": 5,
   "id": "2fdd777f",
   "metadata": {
    "scrolled": true
   },
   "outputs": [
    {
     "name": "stderr",
     "output_type": "stream",
     "text": [
      "2022-03-04 17:01:41.139866: I tensorflow/core/platform/cpu_feature_guard.cc:151] This TensorFlow binary is optimized with oneAPI Deep Neural Network Library (oneDNN) to use the following CPU instructions in performance-critical operations:  AVX2 FMA\n",
      "To enable them in other operations, rebuild TensorFlow with the appropriate compiler flags.\n"
     ]
    }
   ],
   "source": [
    "# Create the Keras Sequential Model\n",
    "nn_model = tf.keras.models.Sequential()"
   ]
  },
  {
   "cell_type": "code",
   "execution_count": 6,
   "id": "e2598061",
   "metadata": {},
   "outputs": [],
   "source": [
    "# Add our first Dense layer, including the input layer\n",
    "nn_model.add(tf.keras.layers.Dense(units=1, activation=\"relu\", input_dim=2))"
   ]
  },
  {
   "cell_type": "code",
   "execution_count": 7,
   "id": "5a665a5c",
   "metadata": {},
   "outputs": [],
   "source": [
    "# Add the output layer that uses a probability activation function\n",
    "nn_model.add(tf.keras.layers.Dense(units=1, activation=\"sigmoid\"))"
   ]
  },
  {
   "cell_type": "code",
   "execution_count": 8,
   "id": "4f1f7877",
   "metadata": {},
   "outputs": [
    {
     "name": "stdout",
     "output_type": "stream",
     "text": [
      "Model: \"sequential\"\n",
      "_________________________________________________________________\n",
      " Layer (type)                Output Shape              Param #   \n",
      "=================================================================\n",
      " dense (Dense)               (None, 1)                 3         \n",
      "                                                                 \n",
      " dense_1 (Dense)             (None, 1)                 2         \n",
      "                                                                 \n",
      "=================================================================\n",
      "Total params: 5\n",
      "Trainable params: 5\n",
      "Non-trainable params: 0\n",
      "_________________________________________________________________\n"
     ]
    }
   ],
   "source": [
    "# Check the structure of the Sequential Model\n",
    "nn_model.summary()"
   ]
  },
  {
   "cell_type": "code",
   "execution_count": 9,
   "id": "c63a21bd",
   "metadata": {},
   "outputs": [],
   "source": [
    "# Compile the sequential model together and customize metrics\n",
    "nn_model.compile(loss=\"binary_crossentropy\", optimizer=\"adam\", metrics=[\"accuracy\"])"
   ]
  },
  {
   "cell_type": "code",
   "execution_count": 10,
   "id": "0cbced26",
   "metadata": {},
   "outputs": [
    {
     "name": "stdout",
     "output_type": "stream",
     "text": [
      "Epoch 1/100\n",
      "24/24 [==============================] - 0s 824us/step - loss: 1.0863 - accuracy: 0.1160\n",
      "Epoch 2/100\n",
      "24/24 [==============================] - 0s 779us/step - loss: 1.0475 - accuracy: 0.0987\n",
      "Epoch 3/100\n",
      "24/24 [==============================] - 0s 792us/step - loss: 1.0124 - accuracy: 0.1053\n",
      "Epoch 4/100\n",
      "24/24 [==============================] - 0s 815us/step - loss: 0.9801 - accuracy: 0.1133\n",
      "Epoch 5/100\n",
      "24/24 [==============================] - 0s 815us/step - loss: 0.9508 - accuracy: 0.1200\n",
      "Epoch 6/100\n",
      "24/24 [==============================] - 0s 984us/step - loss: 0.9241 - accuracy: 0.1267\n",
      "Epoch 7/100\n",
      "24/24 [==============================] - 0s 975us/step - loss: 0.9005 - accuracy: 0.1453\n",
      "Epoch 8/100\n",
      "24/24 [==============================] - 0s 871us/step - loss: 0.8786 - accuracy: 0.1573\n",
      "Epoch 9/100\n",
      "24/24 [==============================] - 0s 786us/step - loss: 0.8596 - accuracy: 0.1733\n",
      "Epoch 10/100\n",
      "24/24 [==============================] - 0s 949us/step - loss: 0.8421 - accuracy: 0.1880\n",
      "Epoch 11/100\n",
      "24/24 [==============================] - 0s 973us/step - loss: 0.8261 - accuracy: 0.2013\n",
      "Epoch 12/100\n",
      "24/24 [==============================] - 0s 985us/step - loss: 0.8120 - accuracy: 0.2147\n",
      "Epoch 13/100\n",
      "24/24 [==============================] - 0s 1ms/step - loss: 0.7994 - accuracy: 0.2213\n",
      "Epoch 14/100\n",
      "24/24 [==============================] - 0s 1ms/step - loss: 0.7878 - accuracy: 0.2293\n",
      "Epoch 15/100\n",
      "24/24 [==============================] - 0s 1ms/step - loss: 0.7775 - accuracy: 0.2400\n",
      "Epoch 16/100\n",
      "24/24 [==============================] - 0s 1ms/step - loss: 0.7681 - accuracy: 0.2507\n",
      "Epoch 17/100\n",
      "24/24 [==============================] - 0s 1ms/step - loss: 0.7592 - accuracy: 0.2747\n",
      "Epoch 18/100\n",
      "24/24 [==============================] - 0s 1ms/step - loss: 0.7512 - accuracy: 0.2867\n",
      "Epoch 19/100\n",
      "24/24 [==============================] - 0s 874us/step - loss: 0.7439 - accuracy: 0.3013\n",
      "Epoch 20/100\n",
      "24/24 [==============================] - 0s 835us/step - loss: 0.7375 - accuracy: 0.3307\n",
      "Epoch 21/100\n",
      "24/24 [==============================] - 0s 831us/step - loss: 0.7319 - accuracy: 0.3440\n",
      "Epoch 22/100\n",
      "24/24 [==============================] - 0s 982us/step - loss: 0.7269 - accuracy: 0.3573\n",
      "Epoch 23/100\n",
      "24/24 [==============================] - 0s 1ms/step - loss: 0.7224 - accuracy: 0.3773\n",
      "Epoch 24/100\n",
      "24/24 [==============================] - 0s 905us/step - loss: 0.7187 - accuracy: 0.3867\n",
      "Epoch 25/100\n",
      "24/24 [==============================] - 0s 858us/step - loss: 0.7155 - accuracy: 0.3920\n",
      "Epoch 26/100\n",
      "24/24 [==============================] - 0s 885us/step - loss: 0.7128 - accuracy: 0.4000\n",
      "Epoch 27/100\n",
      "24/24 [==============================] - 0s 900us/step - loss: 0.7103 - accuracy: 0.4053\n",
      "Epoch 28/100\n",
      "24/24 [==============================] - 0s 1ms/step - loss: 0.7082 - accuracy: 0.4120\n",
      "Epoch 29/100\n",
      "24/24 [==============================] - 0s 914us/step - loss: 0.7064 - accuracy: 0.4173\n",
      "Epoch 30/100\n",
      "24/24 [==============================] - 0s 841us/step - loss: 0.7046 - accuracy: 0.4267\n",
      "Epoch 31/100\n",
      "24/24 [==============================] - 0s 879us/step - loss: 0.7031 - accuracy: 0.4333\n",
      "Epoch 32/100\n",
      "24/24 [==============================] - 0s 962us/step - loss: 0.7017 - accuracy: 0.4400\n",
      "Epoch 33/100\n",
      "24/24 [==============================] - 0s 1ms/step - loss: 0.7003 - accuracy: 0.4493\n",
      "Epoch 34/100\n",
      "24/24 [==============================] - 0s 838us/step - loss: 0.6993 - accuracy: 0.4533\n",
      "Epoch 35/100\n",
      "24/24 [==============================] - 0s 1ms/step - loss: 0.6984 - accuracy: 0.4627\n",
      "Epoch 36/100\n",
      "24/24 [==============================] - 0s 846us/step - loss: 0.6973 - accuracy: 0.4667\n",
      "Epoch 37/100\n",
      "24/24 [==============================] - 0s 839us/step - loss: 0.6966 - accuracy: 0.4707\n",
      "Epoch 38/100\n",
      "24/24 [==============================] - 0s 842us/step - loss: 0.6959 - accuracy: 0.4800\n",
      "Epoch 39/100\n",
      "24/24 [==============================] - 0s 869us/step - loss: 0.6954 - accuracy: 0.4827\n",
      "Epoch 40/100\n",
      "24/24 [==============================] - 0s 849us/step - loss: 0.6949 - accuracy: 0.4853\n",
      "Epoch 41/100\n",
      "24/24 [==============================] - 0s 891us/step - loss: 0.6945 - accuracy: 0.4880\n",
      "Epoch 42/100\n",
      "24/24 [==============================] - 0s 869us/step - loss: 0.6941 - accuracy: 0.4920\n",
      "Epoch 43/100\n",
      "24/24 [==============================] - 0s 980us/step - loss: 0.6937 - accuracy: 0.4947\n",
      "Epoch 44/100\n",
      "24/24 [==============================] - 0s 767us/step - loss: 0.6934 - accuracy: 0.5013\n",
      "Epoch 45/100\n",
      "24/24 [==============================] - 0s 832us/step - loss: 0.6931 - accuracy: 0.5027\n",
      "Epoch 46/100\n",
      "24/24 [==============================] - 0s 869us/step - loss: 0.6928 - accuracy: 0.5053\n",
      "Epoch 47/100\n",
      "24/24 [==============================] - 0s 882us/step - loss: 0.6926 - accuracy: 0.5067\n",
      "Epoch 48/100\n",
      "24/24 [==============================] - 0s 858us/step - loss: 0.6923 - accuracy: 0.5093\n",
      "Epoch 49/100\n",
      "24/24 [==============================] - 0s 791us/step - loss: 0.6921 - accuracy: 0.5120\n",
      "Epoch 50/100\n",
      "24/24 [==============================] - 0s 1ms/step - loss: 0.6918 - accuracy: 0.5173\n",
      "Epoch 51/100\n",
      "24/24 [==============================] - 0s 789us/step - loss: 0.6916 - accuracy: 0.5213\n",
      "Epoch 52/100\n",
      "24/24 [==============================] - 0s 851us/step - loss: 0.6913 - accuracy: 0.5293\n",
      "Epoch 53/100\n",
      "24/24 [==============================] - 0s 1ms/step - loss: 0.6910 - accuracy: 0.5333\n",
      "Epoch 54/100\n",
      "24/24 [==============================] - 0s 868us/step - loss: 0.6907 - accuracy: 0.5373\n",
      "Epoch 55/100\n",
      "24/24 [==============================] - 0s 825us/step - loss: 0.6904 - accuracy: 0.5400\n",
      "Epoch 56/100\n",
      "24/24 [==============================] - 0s 775us/step - loss: 0.6901 - accuracy: 0.5427\n",
      "Epoch 57/100\n",
      "24/24 [==============================] - 0s 782us/step - loss: 0.6897 - accuracy: 0.5493\n",
      "Epoch 58/100\n",
      "24/24 [==============================] - 0s 800us/step - loss: 0.6893 - accuracy: 0.5147\n",
      "Epoch 59/100\n",
      "24/24 [==============================] - 0s 833us/step - loss: 0.6888 - accuracy: 0.5653\n",
      "Epoch 60/100\n",
      "24/24 [==============================] - 0s 848us/step - loss: 0.6882 - accuracy: 0.5133\n",
      "Epoch 61/100\n",
      "24/24 [==============================] - 0s 810us/step - loss: 0.6875 - accuracy: 0.5067\n",
      "Epoch 62/100\n",
      "24/24 [==============================] - 0s 849us/step - loss: 0.6866 - accuracy: 0.5067\n",
      "Epoch 63/100\n",
      "24/24 [==============================] - 0s 774us/step - loss: 0.6854 - accuracy: 0.5067\n",
      "Epoch 64/100\n",
      "24/24 [==============================] - 0s 815us/step - loss: 0.6840 - accuracy: 0.5067\n",
      "Epoch 65/100\n",
      "24/24 [==============================] - 0s 870us/step - loss: 0.6821 - accuracy: 0.5067\n",
      "Epoch 66/100\n",
      "24/24 [==============================] - 0s 993us/step - loss: 0.6798 - accuracy: 0.5200\n",
      "Epoch 67/100\n",
      "24/24 [==============================] - 0s 932us/step - loss: 0.6769 - accuracy: 0.5067\n",
      "Epoch 68/100\n",
      "24/24 [==============================] - 0s 807us/step - loss: 0.6730 - accuracy: 0.5067\n",
      "Epoch 69/100\n",
      "24/24 [==============================] - 0s 791us/step - loss: 0.6681 - accuracy: 0.5227\n",
      "Epoch 70/100\n",
      "24/24 [==============================] - 0s 785us/step - loss: 0.6614 - accuracy: 0.7867\n",
      "Epoch 71/100\n",
      "24/24 [==============================] - 0s 898us/step - loss: 0.6526 - accuracy: 0.8333\n",
      "Epoch 72/100\n",
      "24/24 [==============================] - 0s 901us/step - loss: 0.6404 - accuracy: 0.8880\n",
      "Epoch 73/100\n",
      "24/24 [==============================] - 0s 923us/step - loss: 0.6240 - accuracy: 0.9307\n",
      "Epoch 74/100\n",
      "24/24 [==============================] - 0s 886us/step - loss: 0.6041 - accuracy: 0.9747\n",
      "Epoch 75/100\n",
      "24/24 [==============================] - 0s 739us/step - loss: 0.5814 - accuracy: 0.9920\n",
      "Epoch 76/100\n",
      "24/24 [==============================] - 0s 859us/step - loss: 0.5584 - accuracy: 1.0000\n",
      "Epoch 77/100\n",
      "24/24 [==============================] - 0s 809us/step - loss: 0.5360 - accuracy: 1.0000\n",
      "Epoch 78/100\n",
      "24/24 [==============================] - 0s 836us/step - loss: 0.5144 - accuracy: 1.0000\n",
      "Epoch 79/100\n",
      "24/24 [==============================] - 0s 785us/step - loss: 0.4933 - accuracy: 1.0000\n",
      "Epoch 80/100\n",
      "24/24 [==============================] - 0s 796us/step - loss: 0.4733 - accuracy: 1.0000\n",
      "Epoch 81/100\n"
     ]
    },
    {
     "name": "stdout",
     "output_type": "stream",
     "text": [
      "24/24 [==============================] - 0s 800us/step - loss: 0.4542 - accuracy: 1.0000\n",
      "Epoch 82/100\n",
      "24/24 [==============================] - 0s 796us/step - loss: 0.4361 - accuracy: 1.0000\n",
      "Epoch 83/100\n",
      "24/24 [==============================] - 0s 770us/step - loss: 0.4189 - accuracy: 1.0000\n",
      "Epoch 84/100\n",
      "24/24 [==============================] - 0s 784us/step - loss: 0.4026 - accuracy: 1.0000\n",
      "Epoch 85/100\n",
      "24/24 [==============================] - 0s 774us/step - loss: 0.3873 - accuracy: 1.0000\n",
      "Epoch 86/100\n",
      "24/24 [==============================] - 0s 761us/step - loss: 0.3728 - accuracy: 1.0000\n",
      "Epoch 87/100\n",
      "24/24 [==============================] - 0s 776us/step - loss: 0.3591 - accuracy: 1.0000\n",
      "Epoch 88/100\n",
      "24/24 [==============================] - 0s 753us/step - loss: 0.3463 - accuracy: 1.0000\n",
      "Epoch 89/100\n",
      "24/24 [==============================] - 0s 773us/step - loss: 0.3342 - accuracy: 1.0000\n",
      "Epoch 90/100\n",
      "24/24 [==============================] - 0s 784us/step - loss: 0.3228 - accuracy: 1.0000\n",
      "Epoch 91/100\n",
      "24/24 [==============================] - 0s 777us/step - loss: 0.3121 - accuracy: 1.0000\n",
      "Epoch 92/100\n",
      "24/24 [==============================] - 0s 874us/step - loss: 0.3020 - accuracy: 1.0000\n",
      "Epoch 93/100\n",
      "24/24 [==============================] - 0s 798us/step - loss: 0.2924 - accuracy: 1.0000\n",
      "Epoch 94/100\n",
      "24/24 [==============================] - 0s 792us/step - loss: 0.2834 - accuracy: 1.0000\n",
      "Epoch 95/100\n",
      "24/24 [==============================] - 0s 775us/step - loss: 0.2748 - accuracy: 1.0000\n",
      "Epoch 96/100\n",
      "24/24 [==============================] - 0s 779us/step - loss: 0.2667 - accuracy: 1.0000\n",
      "Epoch 97/100\n",
      "24/24 [==============================] - 0s 781us/step - loss: 0.2589 - accuracy: 1.0000\n",
      "Epoch 98/100\n",
      "24/24 [==============================] - 0s 773us/step - loss: 0.2515 - accuracy: 1.0000\n",
      "Epoch 99/100\n",
      "24/24 [==============================] - 0s 792us/step - loss: 0.2445 - accuracy: 1.0000\n",
      "Epoch 100/100\n",
      "24/24 [==============================] - 0s 780us/step - loss: 0.2379 - accuracy: 1.0000\n"
     ]
    }
   ],
   "source": [
    "# Fit the model to the training data\n",
    "fit_model = nn_model.fit(X_train_scaled, y_train, epochs=100)"
   ]
  },
  {
   "cell_type": "code",
   "execution_count": 11,
   "id": "cccbe3e6",
   "metadata": {},
   "outputs": [
    {
     "data": {
      "text/plain": [
       "<AxesSubplot:>"
      ]
     },
     "execution_count": 11,
     "metadata": {},
     "output_type": "execute_result"
    },
    {
     "data": {
      "image/png": "[encoded data removed]",
      "text/plain": [
       "<Figure size 432x288 with 1 Axes>"
      ]
     },
     "metadata": {
      "needs_background": "light"
     },
     "output_type": "display_data"
    }
   ],
   "source": [
    "# Create a DataFrame containing training history\n",
    "history_df = pd.DataFrame(fit_model.history, index=range(1,len(fit_model.history[\"loss\"])+1))\n",
    "\n",
    "# Plot the loss\n",
    "history_df.plot(y=\"loss\")"
   ]
  },
  {
   "cell_type": "code",
   "execution_count": 12,
   "id": "0f46b68e",
   "metadata": {},
   "outputs": [
    {
     "data": {
      "text/plain": [
       "<AxesSubplot:>"
      ]
     },
     "execution_count": 12,
     "metadata": {},
     "output_type": "execute_result"
    },
    {
     "data": {
      "image/png": "[encoded data removed]",
      "text/plain": [
       "<Figure size 432x288 with 1 Axes>"
      ]
     },
     "metadata": {
      "needs_background": "light"
     },
     "output_type": "display_data"
    }
   ],
   "source": [
    "history_df.plot(y=\"accuracy\")"
   ]
  },
  {
   "cell_type": "code",
   "execution_count": 13,
   "id": "6f1afa56",
   "metadata": {},
   "outputs": [
    {
     "name": "stdout",
     "output_type": "stream",
     "text": [
      "8/8 - 0s - loss: 0.2404 - accuracy: 1.0000 - 100ms/epoch - 12ms/step\n",
      "Loss: 0.2404358983039856, Accuracy: 1.0\n"
     ]
    }
   ],
   "source": [
    "# Evaluate the model using the test data\n",
    "model_loss, model_accuracy = nn_model.evaluate(X_test_scaled, y_test, verbose=2)\n",
    "print(f\"Loss: {model_loss}, Accuracy: {model_accuracy}\")"
   ]
  },
  {
   "cell_type": "code",
   "execution_count": 14,
   "id": "a44a8f51",
   "metadata": {},
   "outputs": [
    {
     "data": {
      "text/plain": [
       "array([[0],\n",
       "       [1],\n",
       "       [0],\n",
       "       [1],\n",
       "       [0],\n",
       "       [0],\n",
       "       [1],\n",
       "       [1],\n",
       "       [1],\n",
       "       [0]], dtype=int32)"
      ]
     },
     "execution_count": 14,
     "metadata": {},
     "output_type": "execute_result"
    }
   ],
   "source": [
    "# Predict the classification of a new set of blob data\n",
    "new_X, new_Y = make_blobs(n_samples=10, centers=2, n_features=2, random_state=78)\n",
    "new_X_scaled = X_scaler.transform(new_X)\n",
    "(nn_model.predict(new_X_scaled) > 0.5).astype(\"int32\")"
   ]
  },
  {
   "cell_type": "code",
   "execution_count": 15,
   "id": "e81030ed",
   "metadata": {},
   "outputs": [
    {
     "data": {
      "text/plain": [
       "<AxesSubplot:xlabel='Feature 1', ylabel='Feature 2'>"
      ]
     },
     "execution_count": 15,
     "metadata": {},
     "output_type": "execute_result"
    },
    {
     "data": {
      "image/png": "[encoded data removed]",
      "text/plain": [
       "<Figure size 432x288 with 2 Axes>"
      ]
     },
     "metadata": {
      "needs_background": "light"
     },
     "output_type": "display_data"
    }
   ],
   "source": [
    "#19.2.4 make_moons\n",
    "from sklearn.datasets import make_moons\n",
    "\n",
    "# Creating dummy nonlinear data\n",
    "X_moons, y_moons = make_moons(n_samples=1000, noise=0.08, random_state=78)\n",
    "\n",
    "# Transforming y_moons to a vertical vector\n",
    "y_moons = y_moons.reshape(-1,1)\n",
    "\n",
    "# Creating a DataFrame to plot the nonlinear dummy data\n",
    "df_moons = pd.DataFrame(X_moons, columns=[\"Feature 1\", \"Feature 2\"])\n",
    "df_moons[\"Target\"] = y_moons\n",
    "\n",
    "# Plot the nonlinear dummy data\n",
    "df_moons.plot.scatter(x=\"Feature 1\", y=\"Feature 2\", c=\"Target\", colormap=\"winter\")"
   ]
  },
  {
   "cell_type": "code",
   "execution_count": 16,
   "id": "360b6ece",
   "metadata": {},
   "outputs": [],
   "source": [
    "# Create training and testing sets\n",
    "X_moon_train, X_moon_test, y_moon_train, y_moon_test = train_test_split(X_moons, y_moons, random_state=78)\n",
    "\n",
    "# Create the scaler instance\n",
    "X_moon_scaler = skl.preprocessing.StandardScaler()\n",
    "\n",
    "# Fit the sclaer\n",
    "X_moon_scaler.fit(X_moon_train)\n",
    "\n",
    "# Scale the data\n",
    "X_moon_train_scaled = X_moon_scaler.transform(X_moon_train)\n",
    "X_moon_test_scaled = X_moon_scaler.transform(X_moon_test)"
   ]
  },
  {
   "cell_type": "code",
   "execution_count": 17,
   "id": "ac9832b0",
   "metadata": {},
   "outputs": [
    {
     "name": "stdout",
     "output_type": "stream",
     "text": [
      "Epoch 1/100\n",
      "24/24 [==============================] - 0s 1ms/step - loss: 0.6151 - accuracy: 0.6253\n",
      "Epoch 2/100\n",
      "24/24 [==============================] - 0s 1ms/step - loss: 0.5906 - accuracy: 0.6480\n",
      "Epoch 3/100\n",
      "24/24 [==============================] - 0s 1ms/step - loss: 0.5674 - accuracy: 0.6653\n",
      "Epoch 4/100\n",
      "24/24 [==============================] - 0s 1ms/step - loss: 0.5489 - accuracy: 0.6813\n",
      "Epoch 5/100\n",
      "24/24 [==============================] - 0s 1ms/step - loss: 0.5340 - accuracy: 0.6973\n",
      "Epoch 6/100\n",
      "24/24 [==============================] - 0s 1ms/step - loss: 0.5214 - accuracy: 0.7107\n",
      "Epoch 7/100\n",
      "24/24 [==============================] - 0s 1ms/step - loss: 0.5111 - accuracy: 0.7173\n",
      "Epoch 8/100\n",
      "24/24 [==============================] - 0s 1ms/step - loss: 0.5014 - accuracy: 0.7253\n",
      "Epoch 9/100\n",
      "24/24 [==============================] - 0s 1ms/step - loss: 0.4929 - accuracy: 0.7360\n",
      "Epoch 10/100\n",
      "24/24 [==============================] - 0s 1ms/step - loss: 0.4850 - accuracy: 0.7427\n",
      "Epoch 11/100\n",
      "24/24 [==============================] - 0s 1ms/step - loss: 0.4781 - accuracy: 0.7480\n",
      "Epoch 12/100\n",
      "24/24 [==============================] - 0s 1ms/step - loss: 0.4714 - accuracy: 0.7507\n",
      "Epoch 13/100\n",
      "24/24 [==============================] - 0s 1ms/step - loss: 0.4653 - accuracy: 0.7533\n",
      "Epoch 14/100\n",
      "24/24 [==============================] - 0s 1ms/step - loss: 0.4594 - accuracy: 0.7600\n",
      "Epoch 15/100\n",
      "24/24 [==============================] - 0s 1ms/step - loss: 0.4538 - accuracy: 0.7653\n",
      "Epoch 16/100\n",
      "24/24 [==============================] - 0s 1ms/step - loss: 0.4485 - accuracy: 0.7693\n",
      "Epoch 17/100\n",
      "24/24 [==============================] - 0s 1ms/step - loss: 0.4435 - accuracy: 0.7733\n",
      "Epoch 18/100\n",
      "24/24 [==============================] - 0s 1ms/step - loss: 0.4386 - accuracy: 0.7787\n",
      "Epoch 19/100\n",
      "24/24 [==============================] - 0s 1ms/step - loss: 0.4338 - accuracy: 0.7840\n",
      "Epoch 20/100\n",
      "24/24 [==============================] - 0s 1ms/step - loss: 0.4293 - accuracy: 0.7907\n",
      "Epoch 21/100\n",
      "24/24 [==============================] - 0s 1ms/step - loss: 0.4248 - accuracy: 0.7933\n",
      "Epoch 22/100\n",
      "24/24 [==============================] - 0s 1ms/step - loss: 0.4206 - accuracy: 0.8000\n",
      "Epoch 23/100\n",
      "24/24 [==============================] - 0s 1ms/step - loss: 0.4162 - accuracy: 0.8053\n",
      "Epoch 24/100\n",
      "24/24 [==============================] - 0s 1ms/step - loss: 0.4123 - accuracy: 0.8133\n",
      "Epoch 25/100\n",
      "24/24 [==============================] - 0s 1ms/step - loss: 0.4086 - accuracy: 0.8133\n",
      "Epoch 26/100\n",
      "24/24 [==============================] - 0s 1ms/step - loss: 0.4049 - accuracy: 0.8147\n",
      "Epoch 27/100\n",
      "24/24 [==============================] - 0s 1ms/step - loss: 0.4014 - accuracy: 0.8173\n",
      "Epoch 28/100\n",
      "24/24 [==============================] - 0s 1ms/step - loss: 0.3981 - accuracy: 0.8240\n",
      "Epoch 29/100\n",
      "24/24 [==============================] - 0s 1ms/step - loss: 0.3946 - accuracy: 0.8267\n",
      "Epoch 30/100\n",
      "24/24 [==============================] - 0s 1ms/step - loss: 0.3911 - accuracy: 0.8293\n",
      "Epoch 31/100\n",
      "24/24 [==============================] - 0s 1ms/step - loss: 0.3876 - accuracy: 0.8293\n",
      "Epoch 32/100\n",
      "24/24 [==============================] - 0s 1ms/step - loss: 0.3842 - accuracy: 0.8347\n",
      "Epoch 33/100\n",
      "24/24 [==============================] - 0s 2ms/step - loss: 0.3807 - accuracy: 0.8347\n",
      "Epoch 34/100\n",
      "24/24 [==============================] - 0s 1ms/step - loss: 0.3774 - accuracy: 0.8413\n",
      "Epoch 35/100\n",
      "24/24 [==============================] - 0s 1ms/step - loss: 0.3740 - accuracy: 0.8440\n",
      "Epoch 36/100\n",
      "24/24 [==============================] - 0s 1ms/step - loss: 0.3707 - accuracy: 0.8480\n",
      "Epoch 37/100\n",
      "24/24 [==============================] - 0s 1ms/step - loss: 0.3675 - accuracy: 0.8493\n",
      "Epoch 38/100\n",
      "24/24 [==============================] - 0s 1ms/step - loss: 0.3645 - accuracy: 0.8493\n",
      "Epoch 39/100\n",
      "24/24 [==============================] - 0s 1ms/step - loss: 0.3614 - accuracy: 0.8507\n",
      "Epoch 40/100\n",
      "24/24 [==============================] - 0s 1ms/step - loss: 0.3583 - accuracy: 0.8533\n",
      "Epoch 41/100\n",
      "24/24 [==============================] - 0s 1ms/step - loss: 0.3552 - accuracy: 0.8560\n",
      "Epoch 42/100\n",
      "24/24 [==============================] - 0s 1ms/step - loss: 0.3522 - accuracy: 0.8573\n",
      "Epoch 43/100\n",
      "24/24 [==============================] - 0s 1ms/step - loss: 0.3492 - accuracy: 0.8600\n",
      "Epoch 44/100\n",
      "24/24 [==============================] - 0s 1ms/step - loss: 0.3462 - accuracy: 0.8600\n",
      "Epoch 45/100\n",
      "24/24 [==============================] - 0s 2ms/step - loss: 0.3432 - accuracy: 0.8653\n",
      "Epoch 46/100\n",
      "24/24 [==============================] - 0s 1ms/step - loss: 0.3402 - accuracy: 0.8680\n",
      "Epoch 47/100\n",
      "24/24 [==============================] - 0s 1ms/step - loss: 0.3374 - accuracy: 0.8693\n",
      "Epoch 48/100\n",
      "24/24 [==============================] - 0s 1ms/step - loss: 0.3346 - accuracy: 0.8693\n",
      "Epoch 49/100\n",
      "24/24 [==============================] - 0s 1ms/step - loss: 0.3318 - accuracy: 0.8693\n",
      "Epoch 50/100\n",
      "24/24 [==============================] - 0s 1ms/step - loss: 0.3291 - accuracy: 0.8720\n",
      "Epoch 51/100\n",
      "24/24 [==============================] - 0s 1ms/step - loss: 0.3267 - accuracy: 0.8720\n",
      "Epoch 52/100\n",
      "24/24 [==============================] - 0s 1ms/step - loss: 0.3244 - accuracy: 0.8733\n",
      "Epoch 53/100\n",
      "24/24 [==============================] - 0s 1ms/step - loss: 0.3221 - accuracy: 0.8747\n",
      "Epoch 54/100\n",
      "24/24 [==============================] - 0s 1ms/step - loss: 0.3200 - accuracy: 0.8747\n",
      "Epoch 55/100\n",
      "24/24 [==============================] - 0s 1ms/step - loss: 0.3180 - accuracy: 0.8747\n",
      "Epoch 56/100\n",
      "24/24 [==============================] - 0s 1ms/step - loss: 0.3159 - accuracy: 0.8760\n",
      "Epoch 57/100\n",
      "24/24 [==============================] - 0s 1ms/step - loss: 0.3139 - accuracy: 0.8773\n",
      "Epoch 58/100\n",
      "24/24 [==============================] - 0s 1ms/step - loss: 0.3120 - accuracy: 0.8773\n",
      "Epoch 59/100\n",
      "24/24 [==============================] - 0s 1ms/step - loss: 0.3101 - accuracy: 0.8800\n",
      "Epoch 60/100\n",
      "24/24 [==============================] - 0s 1ms/step - loss: 0.3083 - accuracy: 0.8827\n",
      "Epoch 61/100\n",
      "24/24 [==============================] - 0s 1ms/step - loss: 0.3067 - accuracy: 0.8853\n",
      "Epoch 62/100\n",
      "24/24 [==============================] - 0s 1ms/step - loss: 0.3051 - accuracy: 0.8853\n",
      "Epoch 63/100\n",
      "24/24 [==============================] - 0s 1ms/step - loss: 0.3035 - accuracy: 0.8880\n",
      "Epoch 64/100\n",
      "24/24 [==============================] - 0s 1ms/step - loss: 0.3021 - accuracy: 0.8893\n",
      "Epoch 65/100\n",
      "24/24 [==============================] - 0s 1ms/step - loss: 0.3009 - accuracy: 0.8893\n",
      "Epoch 66/100\n",
      "24/24 [==============================] - 0s 1ms/step - loss: 0.2997 - accuracy: 0.8907\n",
      "Epoch 67/100\n",
      "24/24 [==============================] - 0s 1ms/step - loss: 0.2984 - accuracy: 0.8920\n",
      "Epoch 68/100\n",
      "24/24 [==============================] - 0s 1ms/step - loss: 0.2973 - accuracy: 0.8920\n",
      "Epoch 69/100\n",
      "24/24 [==============================] - 0s 1ms/step - loss: 0.2961 - accuracy: 0.8933\n",
      "Epoch 70/100\n",
      "24/24 [==============================] - 0s 1ms/step - loss: 0.2953 - accuracy: 0.8933\n",
      "Epoch 71/100\n",
      "24/24 [==============================] - 0s 1ms/step - loss: 0.2942 - accuracy: 0.8933\n",
      "Epoch 72/100\n",
      "24/24 [==============================] - 0s 1ms/step - loss: 0.2933 - accuracy: 0.8920\n",
      "Epoch 73/100\n",
      "24/24 [==============================] - 0s 1ms/step - loss: 0.2926 - accuracy: 0.8907\n",
      "Epoch 74/100\n",
      "24/24 [==============================] - 0s 1ms/step - loss: 0.2917 - accuracy: 0.8907\n",
      "Epoch 75/100\n",
      "24/24 [==============================] - 0s 1ms/step - loss: 0.2910 - accuracy: 0.8920\n",
      "Epoch 76/100\n",
      "24/24 [==============================] - 0s 1ms/step - loss: 0.2902 - accuracy: 0.8907\n",
      "Epoch 77/100\n",
      "24/24 [==============================] - 0s 1ms/step - loss: 0.2896 - accuracy: 0.8920\n",
      "Epoch 78/100\n",
      "24/24 [==============================] - 0s 1ms/step - loss: 0.2888 - accuracy: 0.8920\n",
      "Epoch 79/100\n",
      "24/24 [==============================] - 0s 1ms/step - loss: 0.2882 - accuracy: 0.8920\n",
      "Epoch 80/100\n",
      "24/24 [==============================] - 0s 1ms/step - loss: 0.2875 - accuracy: 0.8933\n",
      "Epoch 81/100\n",
      "24/24 [==============================] - 0s 1ms/step - loss: 0.2869 - accuracy: 0.8933\n",
      "Epoch 82/100\n",
      "24/24 [==============================] - 0s 1ms/step - loss: 0.2863 - accuracy: 0.8933\n",
      "Epoch 83/100\n"
     ]
    },
    {
     "name": "stdout",
     "output_type": "stream",
     "text": [
      "24/24 [==============================] - 0s 1ms/step - loss: 0.2857 - accuracy: 0.8933\n",
      "Epoch 84/100\n",
      "24/24 [==============================] - 0s 1ms/step - loss: 0.2852 - accuracy: 0.8933\n",
      "Epoch 85/100\n",
      "24/24 [==============================] - 0s 1ms/step - loss: 0.2846 - accuracy: 0.8933\n",
      "Epoch 86/100\n",
      "24/24 [==============================] - 0s 1ms/step - loss: 0.2841 - accuracy: 0.8933\n",
      "Epoch 87/100\n",
      "24/24 [==============================] - 0s 1ms/step - loss: 0.2836 - accuracy: 0.8933\n",
      "Epoch 88/100\n",
      "24/24 [==============================] - 0s 1ms/step - loss: 0.2830 - accuracy: 0.8933\n",
      "Epoch 89/100\n",
      "24/24 [==============================] - 0s 1ms/step - loss: 0.2825 - accuracy: 0.8933\n",
      "Epoch 90/100\n",
      "24/24 [==============================] - 0s 1ms/step - loss: 0.2821 - accuracy: 0.8933\n",
      "Epoch 91/100\n",
      "24/24 [==============================] - 0s 1ms/step - loss: 0.2816 - accuracy: 0.8933\n",
      "Epoch 92/100\n",
      "24/24 [==============================] - 0s 1ms/step - loss: 0.2811 - accuracy: 0.8933\n",
      "Epoch 93/100\n",
      "24/24 [==============================] - 0s 1ms/step - loss: 0.2807 - accuracy: 0.8933\n",
      "Epoch 94/100\n",
      "24/24 [==============================] - 0s 1ms/step - loss: 0.2803 - accuracy: 0.8933\n",
      "Epoch 95/100\n",
      "24/24 [==============================] - 0s 1ms/step - loss: 0.2799 - accuracy: 0.8933\n",
      "Epoch 96/100\n",
      "24/24 [==============================] - 0s 1ms/step - loss: 0.2796 - accuracy: 0.8933\n",
      "Epoch 97/100\n",
      "24/24 [==============================] - 0s 2ms/step - loss: 0.2790 - accuracy: 0.8933\n",
      "Epoch 98/100\n",
      "24/24 [==============================] - 0s 1ms/step - loss: 0.2786 - accuracy: 0.8933\n",
      "Epoch 99/100\n",
      "24/24 [==============================] - 0s 1ms/step - loss: 0.2783 - accuracy: 0.8933\n",
      "Epoch 100/100\n",
      "24/24 [==============================] - 0s 1ms/step - loss: 0.2779 - accuracy: 0.8933\n"
     ]
    }
   ],
   "source": [
    "# Training the model\n",
    "model_moon = nn_model.fit(X_moon_train_scaled, y_moon_train, epochs=100, shuffle=True)"
   ]
  },
  {
   "cell_type": "code",
   "execution_count": 18,
   "id": "87e26fc9",
   "metadata": {},
   "outputs": [
    {
     "data": {
      "text/plain": [
       "<AxesSubplot:>"
      ]
     },
     "execution_count": 18,
     "metadata": {},
     "output_type": "execute_result"
    },
    {
     "data": {
      "image/png": "[encoded data removed]",
      "text/plain": [
       "<Figure size 432x288 with 1 Axes>"
      ]
     },
     "metadata": {
      "needs_background": "light"
     },
     "output_type": "display_data"
    }
   ],
   "source": [
    "# Create a DataFrame containing training history\n",
    "history_df = pd.DataFrame(model_moon.history, index=range(1,len(model_moon.history[\"loss\"])+1))\n",
    "\n",
    "# Plot the loss\n",
    "history_df.plot(y=\"loss\")"
   ]
  },
  {
   "cell_type": "code",
   "execution_count": 19,
   "id": "aaa605ce",
   "metadata": {
    "scrolled": true
   },
   "outputs": [
    {
     "data": {
      "text/plain": [
       "<AxesSubplot:>"
      ]
     },
     "execution_count": 19,
     "metadata": {},
     "output_type": "execute_result"
    },
    {
     "data": {
      "image/png": "[encoded data removed]",
      "text/plain": [
       "<Figure size 432x288 with 1 Axes>"
      ]
     },
     "metadata": {
      "needs_background": "light"
     },
     "output_type": "display_data"
    }
   ],
   "source": [
    "history_df.plot(y=\"accuracy\")"
   ]
  },
  {
   "cell_type": "code",
   "execution_count": 20,
   "id": "e6e9d91e",
   "metadata": {},
   "outputs": [],
   "source": [
    "#19.2.5 Multiple Neurons\n",
    "\n",
    "# Generate our new Sequential model\n",
    "new_model = tf.keras.models.Sequential()"
   ]
  },
  {
   "cell_type": "code",
   "execution_count": 21,
   "id": "4d5db68b",
   "metadata": {},
   "outputs": [],
   "source": [
    "# Add the input and hidden layer\n",
    "number_inputs = 2\n",
    "number_hidden_nodes = 6\n",
    "\n",
    "new_model.add(tf.keras.layers.Dense(units=number_hidden_nodes, activation=\"relu\", input_dim=number_inputs))\n",
    "\n",
    "# Add teh output layer that uses a probablility activation function\n",
    "new_model.add(tf.keras.layers.Dense(units=1, activation=\"sigmoid\"))"
   ]
  },
  {
   "cell_type": "code",
   "execution_count": 22,
   "id": "ccb81fb7",
   "metadata": {},
   "outputs": [
    {
     "name": "stdout",
     "output_type": "stream",
     "text": [
      "Epoch 1/100\n",
      "24/24 [==============================] - 0s 793us/step - loss: 0.7682 - accuracy: 0.2413\n",
      "Epoch 2/100\n",
      "24/24 [==============================] - 0s 839us/step - loss: 0.7294 - accuracy: 0.3667\n",
      "Epoch 3/100\n",
      "24/24 [==============================] - 0s 827us/step - loss: 0.6937 - accuracy: 0.5893\n",
      "Epoch 4/100\n",
      "24/24 [==============================] - 0s 831us/step - loss: 0.6605 - accuracy: 0.7907\n",
      "Epoch 5/100\n",
      "24/24 [==============================] - 0s 853us/step - loss: 0.6293 - accuracy: 0.7973\n",
      "Epoch 6/100\n",
      "24/24 [==============================] - 0s 852us/step - loss: 0.5994 - accuracy: 0.7827\n",
      "Epoch 7/100\n",
      "24/24 [==============================] - 0s 853us/step - loss: 0.5711 - accuracy: 0.8307\n",
      "Epoch 8/100\n",
      "24/24 [==============================] - 0s 902us/step - loss: 0.5450 - accuracy: 0.8640\n",
      "Epoch 9/100\n",
      "24/24 [==============================] - 0s 869us/step - loss: 0.5201 - accuracy: 0.8827\n",
      "Epoch 10/100\n",
      "24/24 [==============================] - 0s 853us/step - loss: 0.4974 - accuracy: 0.8840\n",
      "Epoch 11/100\n",
      "24/24 [==============================] - 0s 847us/step - loss: 0.4763 - accuracy: 0.8867\n",
      "Epoch 12/100\n",
      "24/24 [==============================] - 0s 873us/step - loss: 0.4568 - accuracy: 0.8840\n",
      "Epoch 13/100\n",
      "24/24 [==============================] - 0s 826us/step - loss: 0.4385 - accuracy: 0.8853\n",
      "Epoch 14/100\n",
      "24/24 [==============================] - 0s 933us/step - loss: 0.4218 - accuracy: 0.8853\n",
      "Epoch 15/100\n",
      "24/24 [==============================] - 0s 807us/step - loss: 0.4063 - accuracy: 0.8840\n",
      "Epoch 16/100\n",
      "24/24 [==============================] - 0s 822us/step - loss: 0.3921 - accuracy: 0.8840\n",
      "Epoch 17/100\n",
      "24/24 [==============================] - 0s 850us/step - loss: 0.3797 - accuracy: 0.8840\n",
      "Epoch 18/100\n",
      "24/24 [==============================] - 0s 868us/step - loss: 0.3682 - accuracy: 0.8853\n",
      "Epoch 19/100\n",
      "24/24 [==============================] - 0s 861us/step - loss: 0.3580 - accuracy: 0.8853\n",
      "Epoch 20/100\n",
      "24/24 [==============================] - 0s 847us/step - loss: 0.3488 - accuracy: 0.8853\n",
      "Epoch 21/100\n",
      "24/24 [==============================] - 0s 943us/step - loss: 0.3405 - accuracy: 0.8853\n",
      "Epoch 22/100\n",
      "24/24 [==============================] - 0s 833us/step - loss: 0.3332 - accuracy: 0.8853\n",
      "Epoch 23/100\n",
      "24/24 [==============================] - 0s 868us/step - loss: 0.3262 - accuracy: 0.8867\n",
      "Epoch 24/100\n",
      "24/24 [==============================] - 0s 784us/step - loss: 0.3201 - accuracy: 0.8880\n",
      "Epoch 25/100\n",
      "24/24 [==============================] - 0s 806us/step - loss: 0.3144 - accuracy: 0.8880\n",
      "Epoch 26/100\n",
      "24/24 [==============================] - 0s 802us/step - loss: 0.3091 - accuracy: 0.8880\n",
      "Epoch 27/100\n",
      "24/24 [==============================] - 0s 809us/step - loss: 0.3045 - accuracy: 0.8880\n",
      "Epoch 28/100\n",
      "24/24 [==============================] - 0s 809us/step - loss: 0.3001 - accuracy: 0.8880\n",
      "Epoch 29/100\n",
      "24/24 [==============================] - 0s 831us/step - loss: 0.2959 - accuracy: 0.8907\n",
      "Epoch 30/100\n",
      "24/24 [==============================] - 0s 1ms/step - loss: 0.2921 - accuracy: 0.8893\n",
      "Epoch 31/100\n",
      "24/24 [==============================] - 0s 1ms/step - loss: 0.2884 - accuracy: 0.8893\n",
      "Epoch 32/100\n",
      "24/24 [==============================] - 0s 1ms/step - loss: 0.2851 - accuracy: 0.8947\n",
      "Epoch 33/100\n",
      "24/24 [==============================] - 0s 989us/step - loss: 0.2818 - accuracy: 0.8973\n",
      "Epoch 34/100\n",
      "24/24 [==============================] - 0s 867us/step - loss: 0.2788 - accuracy: 0.8987\n",
      "Epoch 35/100\n",
      "24/24 [==============================] - 0s 878us/step - loss: 0.2757 - accuracy: 0.9027\n",
      "Epoch 36/100\n",
      "24/24 [==============================] - 0s 760us/step - loss: 0.2731 - accuracy: 0.9013\n",
      "Epoch 37/100\n",
      "24/24 [==============================] - 0s 809us/step - loss: 0.2705 - accuracy: 0.9000\n",
      "Epoch 38/100\n",
      "24/24 [==============================] - 0s 817us/step - loss: 0.2680 - accuracy: 0.9000\n",
      "Epoch 39/100\n",
      "24/24 [==============================] - 0s 1ms/step - loss: 0.2656 - accuracy: 0.9027\n",
      "Epoch 40/100\n",
      "24/24 [==============================] - 0s 948us/step - loss: 0.2633 - accuracy: 0.9027\n",
      "Epoch 41/100\n",
      "24/24 [==============================] - 0s 837us/step - loss: 0.2611 - accuracy: 0.9027\n",
      "Epoch 42/100\n",
      "24/24 [==============================] - 0s 825us/step - loss: 0.2590 - accuracy: 0.9027\n",
      "Epoch 43/100\n",
      "24/24 [==============================] - 0s 827us/step - loss: 0.2568 - accuracy: 0.9027\n",
      "Epoch 44/100\n",
      "24/24 [==============================] - 0s 826us/step - loss: 0.2547 - accuracy: 0.9040\n",
      "Epoch 45/100\n",
      "24/24 [==============================] - 0s 802us/step - loss: 0.2526 - accuracy: 0.9040\n",
      "Epoch 46/100\n",
      "24/24 [==============================] - 0s 832us/step - loss: 0.2506 - accuracy: 0.9053\n",
      "Epoch 47/100\n",
      "24/24 [==============================] - 0s 873us/step - loss: 0.2485 - accuracy: 0.9053\n",
      "Epoch 48/100\n",
      "24/24 [==============================] - 0s 812us/step - loss: 0.2465 - accuracy: 0.9093\n",
      "Epoch 49/100\n",
      "24/24 [==============================] - 0s 844us/step - loss: 0.2444 - accuracy: 0.9093\n",
      "Epoch 50/100\n",
      "24/24 [==============================] - 0s 804us/step - loss: 0.2424 - accuracy: 0.9107\n",
      "Epoch 51/100\n",
      "24/24 [==============================] - 0s 817us/step - loss: 0.2402 - accuracy: 0.9120\n",
      "Epoch 52/100\n",
      "24/24 [==============================] - 0s 824us/step - loss: 0.2380 - accuracy: 0.9133\n",
      "Epoch 53/100\n",
      "24/24 [==============================] - 0s 827us/step - loss: 0.2361 - accuracy: 0.9133\n",
      "Epoch 54/100\n",
      "24/24 [==============================] - 0s 805us/step - loss: 0.2339 - accuracy: 0.9147\n",
      "Epoch 55/100\n",
      "24/24 [==============================] - 0s 773us/step - loss: 0.2318 - accuracy: 0.9147\n",
      "Epoch 56/100\n",
      "24/24 [==============================] - 0s 1ms/step - loss: 0.2296 - accuracy: 0.9147\n",
      "Epoch 57/100\n",
      "24/24 [==============================] - 0s 846us/step - loss: 0.2274 - accuracy: 0.9173\n",
      "Epoch 58/100\n",
      "24/24 [==============================] - 0s 766us/step - loss: 0.2252 - accuracy: 0.9173\n",
      "Epoch 59/100\n",
      "24/24 [==============================] - 0s 784us/step - loss: 0.2230 - accuracy: 0.9173\n",
      "Epoch 60/100\n",
      "24/24 [==============================] - 0s 758us/step - loss: 0.2210 - accuracy: 0.9187\n",
      "Epoch 61/100\n",
      "24/24 [==============================] - 0s 745us/step - loss: 0.2188 - accuracy: 0.9187\n",
      "Epoch 62/100\n",
      "24/24 [==============================] - 0s 753us/step - loss: 0.2168 - accuracy: 0.9187\n",
      "Epoch 63/100\n",
      "24/24 [==============================] - 0s 785us/step - loss: 0.2149 - accuracy: 0.9200\n",
      "Epoch 64/100\n",
      "24/24 [==============================] - 0s 772us/step - loss: 0.2130 - accuracy: 0.9213\n",
      "Epoch 65/100\n",
      "24/24 [==============================] - 0s 763us/step - loss: 0.2112 - accuracy: 0.9213\n",
      "Epoch 66/100\n",
      "24/24 [==============================] - 0s 770us/step - loss: 0.2096 - accuracy: 0.9213\n",
      "Epoch 67/100\n",
      "24/24 [==============================] - 0s 781us/step - loss: 0.2079 - accuracy: 0.9200\n",
      "Epoch 68/100\n",
      "24/24 [==============================] - 0s 754us/step - loss: 0.2062 - accuracy: 0.9213\n",
      "Epoch 69/100\n",
      "24/24 [==============================] - 0s 762us/step - loss: 0.2047 - accuracy: 0.9213\n",
      "Epoch 70/100\n",
      "24/24 [==============================] - 0s 760us/step - loss: 0.2030 - accuracy: 0.9213\n",
      "Epoch 71/100\n",
      "24/24 [==============================] - 0s 768us/step - loss: 0.2015 - accuracy: 0.9253\n",
      "Epoch 72/100\n",
      "24/24 [==============================] - 0s 760us/step - loss: 0.1999 - accuracy: 0.9253\n",
      "Epoch 73/100\n",
      "24/24 [==============================] - 0s 756us/step - loss: 0.1983 - accuracy: 0.9253\n",
      "Epoch 74/100\n",
      "24/24 [==============================] - 0s 717us/step - loss: 0.1966 - accuracy: 0.9253\n",
      "Epoch 75/100\n",
      "24/24 [==============================] - 0s 757us/step - loss: 0.1952 - accuracy: 0.9280\n",
      "Epoch 76/100\n",
      "24/24 [==============================] - 0s 874us/step - loss: 0.1934 - accuracy: 0.9293\n",
      "Epoch 77/100\n",
      "24/24 [==============================] - 0s 998us/step - loss: 0.1916 - accuracy: 0.9293\n",
      "Epoch 78/100\n",
      "24/24 [==============================] - 0s 806us/step - loss: 0.1901 - accuracy: 0.9293\n",
      "Epoch 79/100\n",
      "24/24 [==============================] - 0s 807us/step - loss: 0.1882 - accuracy: 0.9307\n",
      "Epoch 80/100\n",
      "24/24 [==============================] - 0s 828us/step - loss: 0.1865 - accuracy: 0.9307\n",
      "Epoch 81/100\n"
     ]
    },
    {
     "name": "stdout",
     "output_type": "stream",
     "text": [
      "24/24 [==============================] - 0s 777us/step - loss: 0.1848 - accuracy: 0.9307\n",
      "Epoch 82/100\n",
      "24/24 [==============================] - 0s 766us/step - loss: 0.1831 - accuracy: 0.9307\n",
      "Epoch 83/100\n",
      "24/24 [==============================] - 0s 755us/step - loss: 0.1814 - accuracy: 0.9307\n",
      "Epoch 84/100\n",
      "24/24 [==============================] - 0s 727us/step - loss: 0.1797 - accuracy: 0.9307\n",
      "Epoch 85/100\n",
      "24/24 [==============================] - 0s 763us/step - loss: 0.1779 - accuracy: 0.9307\n",
      "Epoch 86/100\n",
      "24/24 [==============================] - 0s 874us/step - loss: 0.1764 - accuracy: 0.9307\n",
      "Epoch 87/100\n",
      "24/24 [==============================] - 0s 823us/step - loss: 0.1746 - accuracy: 0.9307\n",
      "Epoch 88/100\n",
      "24/24 [==============================] - 0s 754us/step - loss: 0.1729 - accuracy: 0.9333\n",
      "Epoch 89/100\n",
      "24/24 [==============================] - 0s 729us/step - loss: 0.1713 - accuracy: 0.9347\n",
      "Epoch 90/100\n",
      "24/24 [==============================] - 0s 734us/step - loss: 0.1697 - accuracy: 0.9333\n",
      "Epoch 91/100\n",
      "24/24 [==============================] - 0s 737us/step - loss: 0.1680 - accuracy: 0.9347\n",
      "Epoch 92/100\n",
      "24/24 [==============================] - 0s 720us/step - loss: 0.1662 - accuracy: 0.9360\n",
      "Epoch 93/100\n",
      "24/24 [==============================] - 0s 761us/step - loss: 0.1645 - accuracy: 0.9360\n",
      "Epoch 94/100\n",
      "24/24 [==============================] - 0s 736us/step - loss: 0.1627 - accuracy: 0.9360\n",
      "Epoch 95/100\n",
      "24/24 [==============================] - 0s 724us/step - loss: 0.1613 - accuracy: 0.9373\n",
      "Epoch 96/100\n",
      "24/24 [==============================] - 0s 732us/step - loss: 0.1595 - accuracy: 0.9400\n",
      "Epoch 97/100\n",
      "24/24 [==============================] - 0s 725us/step - loss: 0.1577 - accuracy: 0.9400\n",
      "Epoch 98/100\n",
      "24/24 [==============================] - 0s 731us/step - loss: 0.1561 - accuracy: 0.9400\n",
      "Epoch 99/100\n",
      "24/24 [==============================] - 0s 761us/step - loss: 0.1544 - accuracy: 0.9413\n",
      "Epoch 100/100\n",
      "24/24 [==============================] - 0s 729us/step - loss: 0.1528 - accuracy: 0.9440\n"
     ]
    }
   ],
   "source": [
    "# Compile the Sequential model together and customize metrics\n",
    "new_model.compile(loss=\"binary_crossentropy\", optimizer=\"adam\", metrics=[\"accuracy\"])\n",
    "\n",
    "# Fit the model to the training data\n",
    "new_fit_model = new_model.fit(X_moon_train_scaled, y_moon_train, epochs=100, shuffle=True)"
   ]
  },
  {
   "cell_type": "code",
   "execution_count": 30,
   "id": "aab4b052",
   "metadata": {
    "scrolled": true
   },
   "outputs": [
    {
     "data": {
      "text/plain": [
       "1     NaN\n",
       "2     NaN\n",
       "3     NaN\n",
       "4     NaN\n",
       "5     NaN\n",
       "6     NaN\n",
       "7     NaN\n",
       "8     NaN\n",
       "9     NaN\n",
       "10    NaN\n",
       "11    NaN\n",
       "12    NaN\n",
       "13    NaN\n",
       "14    NaN\n",
       "15    NaN\n",
       "16    NaN\n",
       "17    NaN\n",
       "18    NaN\n",
       "19    NaN\n",
       "20    NaN\n",
       "dtype: object"
      ]
     },
     "execution_count": 30,
     "metadata": {},
     "output_type": "execute_result"
    }
   ],
   "source": [
    "# Skill drill 19.2.6\n",
    "history_Series = pd.Series(model_moon.history, index=range(1,len(model_moon.history[\"loss\"])+1))\n",
    "\n",
    "history_Series.head(20)"
   ]
  },
  {
   "cell_type": "code",
   "execution_count": 32,
   "id": "b8a3da13",
   "metadata": {},
   "outputs": [
    {
     "data": {
      "text/plain": [
       "loss        [0.6150933504104614, 0.590560257434845, 0.5674...\n",
       "accuracy    [0.625333309173584, 0.6480000019073486, 0.6653...\n",
       "dtype: object"
      ]
     },
     "execution_count": 32,
     "metadata": {},
     "output_type": "execute_result"
    }
   ],
   "source": [
    "history_Series = pd.Series(model_moon.history)\n",
    "history_Series"
   ]
  }
 ],
 "metadata": {
  "kernelspec": {
   "display_name": "mlenv",
   "language": "python",
   "name": "mlenv"
  },
  "language_info": {
   "codemirror_mode": {
    "name": "ipython",
    "version": 3
   },
   "file_extension": ".py",
   "mimetype": "text/x-python",
   "name": "python",
   "nbconvert_exporter": "python",
   "pygments_lexer": "ipython3",
   "version": "3.7.11"
  }
 },
 "nbformat": 4,
 "nbformat_minor": 5
}
